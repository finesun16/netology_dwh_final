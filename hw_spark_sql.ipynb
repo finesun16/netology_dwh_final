{
  "nbformat": 4,
  "nbformat_minor": 0,
  "metadata": {
    "colab": {
      "name": "hw_spark_sql.ipynb",
      "provenance": [],
      "collapsed_sections": [],
      "include_colab_link": true
    },
    "kernelspec": {
      "display_name": "Python 3",
      "language": "python",
      "name": "python3"
    },
    "language_info": {
      "codemirror_mode": {
        "name": "ipython",
        "version": 3
      },
      "file_extension": ".py",
      "mimetype": "text/x-python",
      "name": "python",
      "nbconvert_exporter": "python",
      "pygments_lexer": "ipython3",
      "version": "3.7.1"
    }
  },
  "cells": [
    {
      "cell_type": "markdown",
      "metadata": {
        "id": "view-in-github",
        "colab_type": "text"
      },
      "source": [
        "<a href=\"https://colab.research.google.com/github/finesun16/netology_dwh_final/blob/master/hw_spark_sql.ipynb\" target=\"_parent\"><img src=\"https://colab.research.google.com/assets/colab-badge.svg\" alt=\"Open In Colab\"/></a>"
      ]
    },
    {
      "cell_type": "markdown",
      "metadata": {
        "id": "3ma3-UglUxaX"
      },
      "source": [
        "# Установка PySpark"
      ]
    },
    {
      "cell_type": "code",
      "metadata": {
        "id": "Vi6nqfZkUw3h"
      },
      "source": [
        "!apt-get install openjdk-8-jdk-headless -qq > /dev/null"
      ],
      "execution_count": 1,
      "outputs": []
    },
    {
      "cell_type": "code",
      "source": [
        "!wget -q https://archive.apache.org/dist/spark/spark-3.0.0/spark-3.0.0-bin-hadoop3.2.tgz"
      ],
      "metadata": {
        "id": "DOQ6eh_s5IfQ"
      },
      "execution_count": 2,
      "outputs": []
    },
    {
      "cell_type": "code",
      "source": [
        "!tar xf spark-3.0.0-bin-hadoop3.2.tgz"
      ],
      "metadata": {
        "id": "FkX_fOdV5rBM"
      },
      "execution_count": 3,
      "outputs": []
    },
    {
      "cell_type": "code",
      "metadata": {
        "id": "5L_rKPaJU54x"
      },
      "source": [
        "!pip install -q findspark"
      ],
      "execution_count": 4,
      "outputs": []
    },
    {
      "cell_type": "code",
      "metadata": {
        "id": "Rhdq6bJkU8qz"
      },
      "source": [
        "import os\n",
        "os.environ[\"JAVA_HOME\"] = \"/usr/lib/jvm/java-8-openjdk-amd64\"\n",
        "os.environ[\"SPARK_HOME\"] = \"/content/spark-3.0.0-bin-hadoop3.2\""
      ],
      "execution_count": 5,
      "outputs": []
    },
    {
      "cell_type": "code",
      "metadata": {
        "id": "yTDf1jA9U-9T"
      },
      "source": [
        "import findspark\n",
        "findspark.init()\n",
        "from pyspark.sql import SparkSession\n",
        "from pyspark.sql import Window\n",
        "from pyspark.sql import functions as F\n",
        "from pyspark.sql.functions import round, col\n",
        "\n",
        "spark = SparkSession.builder.master(\"local[*]\").getOrCreate()"
      ],
      "execution_count": 6,
      "outputs": []
    },
    {
      "cell_type": "markdown",
      "metadata": {
        "id": "BB6NPNLwVO9C"
      },
      "source": [
        "# Загрузка данных из CSV"
      ]
    },
    {
      "cell_type": "code",
      "metadata": {
        "id": "UEXYizP0VApq"
      },
      "source": [
        "df = spark.read.csv('owid-covid-data.csv', inferSchema=True, header=True)"
      ],
      "execution_count": 7,
      "outputs": []
    },
    {
      "cell_type": "markdown",
      "metadata": {
        "id": "R9QdB_FsVuja"
      },
      "source": [
        "# Базовый обзор данных"
      ]
    },
    {
      "cell_type": "code",
      "metadata": {
        "id": "oKhAwRXvVPbb",
        "outputId": "05de72ed-1b31-40bd-a080-302507abbb30",
        "colab": {
          "base_uri": "https://localhost:8080/"
        }
      },
      "source": [
        "df.count()"
      ],
      "execution_count": 8,
      "outputs": [
        {
          "output_type": "execute_result",
          "data": {
            "text/plain": [
              "82289"
            ]
          },
          "metadata": {},
          "execution_count": 8
        }
      ]
    },
    {
      "cell_type": "code",
      "metadata": {
        "id": "tWCSTbZrVvxc",
        "outputId": "a516def1-9549-4a2c-83ae-7e3955d3556c",
        "colab": {
          "base_uri": "https://localhost:8080/"
        }
      },
      "source": [
        "df.dtypes"
      ],
      "execution_count": 9,
      "outputs": [
        {
          "output_type": "execute_result",
          "data": {
            "text/plain": [
              "[('iso_code', 'string'),\n",
              " ('continent', 'string'),\n",
              " ('location', 'string'),\n",
              " ('date', 'string'),\n",
              " ('total_cases', 'double'),\n",
              " ('new_cases', 'double'),\n",
              " ('new_cases_smoothed', 'double'),\n",
              " ('total_deaths', 'double'),\n",
              " ('new_deaths', 'double'),\n",
              " ('new_deaths_smoothed', 'double'),\n",
              " ('total_cases_per_million', 'double'),\n",
              " ('new_cases_per_million', 'double'),\n",
              " ('new_cases_smoothed_per_million', 'double'),\n",
              " ('total_deaths_per_million', 'double'),\n",
              " ('new_deaths_per_million', 'double'),\n",
              " ('new_deaths_smoothed_per_million', 'double'),\n",
              " ('reproduction_rate', 'double'),\n",
              " ('icu_patients', 'double'),\n",
              " ('icu_patients_per_million', 'double'),\n",
              " ('hosp_patients', 'double'),\n",
              " ('hosp_patients_per_million', 'double'),\n",
              " ('weekly_icu_admissions', 'double'),\n",
              " ('weekly_icu_admissions_per_million', 'double'),\n",
              " ('weekly_hosp_admissions', 'double'),\n",
              " ('weekly_hosp_admissions_per_million', 'double'),\n",
              " ('new_tests', 'double'),\n",
              " ('total_tests', 'double'),\n",
              " ('total_tests_per_thousand', 'double'),\n",
              " ('new_tests_per_thousand', 'double'),\n",
              " ('new_tests_smoothed', 'double'),\n",
              " ('new_tests_smoothed_per_thousand', 'double'),\n",
              " ('positive_rate', 'double'),\n",
              " ('tests_per_case', 'double'),\n",
              " ('tests_units', 'string'),\n",
              " ('total_vaccinations', 'double'),\n",
              " ('people_vaccinated', 'double'),\n",
              " ('people_fully_vaccinated', 'double'),\n",
              " ('new_vaccinations', 'double'),\n",
              " ('new_vaccinations_smoothed', 'double'),\n",
              " ('total_vaccinations_per_hundred', 'double'),\n",
              " ('people_vaccinated_per_hundred', 'double'),\n",
              " ('people_fully_vaccinated_per_hundred', 'double'),\n",
              " ('new_vaccinations_smoothed_per_million', 'double'),\n",
              " ('stringency_index', 'double'),\n",
              " ('population', 'double'),\n",
              " ('population_density', 'double'),\n",
              " ('median_age', 'double'),\n",
              " ('aged_65_older', 'double'),\n",
              " ('aged_70_older', 'double'),\n",
              " ('gdp_per_capita', 'double'),\n",
              " ('extreme_poverty', 'double'),\n",
              " ('cardiovasc_death_rate', 'double'),\n",
              " ('diabetes_prevalence', 'double'),\n",
              " ('female_smokers', 'double'),\n",
              " ('male_smokers', 'double'),\n",
              " ('handwashing_facilities', 'double'),\n",
              " ('hospital_beds_per_thousand', 'double'),\n",
              " ('life_expectancy', 'double'),\n",
              " ('human_development_index', 'double')]"
            ]
          },
          "metadata": {},
          "execution_count": 9
        }
      ]
    },
    {
      "cell_type": "code",
      "metadata": {
        "id": "W7XN-C1_V1JB",
        "outputId": "5067207b-150d-400b-d1a2-7f1cc2b5a824",
        "colab": {
          "base_uri": "https://localhost:8080/"
        }
      },
      "source": [
        "df.take(2)"
      ],
      "execution_count": 10,
      "outputs": [
        {
          "output_type": "execute_result",
          "data": {
            "text/plain": [
              "[Row(iso_code='AFG', continent='Asia', location='Afghanistan', date='2020-02-24', total_cases=1.0, new_cases=1.0, new_cases_smoothed=None, total_deaths=None, new_deaths=None, new_deaths_smoothed=None, total_cases_per_million=0.026, new_cases_per_million=0.026, new_cases_smoothed_per_million=None, total_deaths_per_million=None, new_deaths_per_million=None, new_deaths_smoothed_per_million=None, reproduction_rate=None, icu_patients=None, icu_patients_per_million=None, hosp_patients=None, hosp_patients_per_million=None, weekly_icu_admissions=None, weekly_icu_admissions_per_million=None, weekly_hosp_admissions=None, weekly_hosp_admissions_per_million=None, new_tests=None, total_tests=None, total_tests_per_thousand=None, new_tests_per_thousand=None, new_tests_smoothed=None, new_tests_smoothed_per_thousand=None, positive_rate=None, tests_per_case=None, tests_units=None, total_vaccinations=None, people_vaccinated=None, people_fully_vaccinated=None, new_vaccinations=None, new_vaccinations_smoothed=None, total_vaccinations_per_hundred=None, people_vaccinated_per_hundred=None, people_fully_vaccinated_per_hundred=None, new_vaccinations_smoothed_per_million=None, stringency_index=8.33, population=38928341.0, population_density=54.422, median_age=18.6, aged_65_older=2.581, aged_70_older=1.337, gdp_per_capita=1803.987, extreme_poverty=None, cardiovasc_death_rate=597.029, diabetes_prevalence=9.59, female_smokers=None, male_smokers=None, handwashing_facilities=37.746, hospital_beds_per_thousand=0.5, life_expectancy=64.83, human_development_index=0.511),\n",
              " Row(iso_code='AFG', continent='Asia', location='Afghanistan', date='2020-02-25', total_cases=1.0, new_cases=0.0, new_cases_smoothed=None, total_deaths=None, new_deaths=None, new_deaths_smoothed=None, total_cases_per_million=0.026, new_cases_per_million=0.0, new_cases_smoothed_per_million=None, total_deaths_per_million=None, new_deaths_per_million=None, new_deaths_smoothed_per_million=None, reproduction_rate=None, icu_patients=None, icu_patients_per_million=None, hosp_patients=None, hosp_patients_per_million=None, weekly_icu_admissions=None, weekly_icu_admissions_per_million=None, weekly_hosp_admissions=None, weekly_hosp_admissions_per_million=None, new_tests=None, total_tests=None, total_tests_per_thousand=None, new_tests_per_thousand=None, new_tests_smoothed=None, new_tests_smoothed_per_thousand=None, positive_rate=None, tests_per_case=None, tests_units=None, total_vaccinations=None, people_vaccinated=None, people_fully_vaccinated=None, new_vaccinations=None, new_vaccinations_smoothed=None, total_vaccinations_per_hundred=None, people_vaccinated_per_hundred=None, people_fully_vaccinated_per_hundred=None, new_vaccinations_smoothed_per_million=None, stringency_index=8.33, population=38928341.0, population_density=54.422, median_age=18.6, aged_65_older=2.581, aged_70_older=1.337, gdp_per_capita=1803.987, extreme_poverty=None, cardiovasc_death_rate=597.029, diabetes_prevalence=9.59, female_smokers=None, male_smokers=None, handwashing_facilities=37.746, hospital_beds_per_thousand=0.5, life_expectancy=64.83, human_development_index=0.511)]"
            ]
          },
          "metadata": {},
          "execution_count": 10
        }
      ]
    },
    {
      "cell_type": "markdown",
      "source": [
        "## Выбрать 15 стран с наибольшим процентом переболевших на 31 марта"
      ],
      "metadata": {
        "id": "m8K0JxsvD3Fk"
      }
    },
    {
      "cell_type": "code",
      "source": [
        "df.where((df['date'] == '2021-03-31') & (df['continent'] != \"null\"))\\\n",
        "    .orderBy('total_cases_per_million', ascending=False).select('iso_code', 'location', round((F.col('total_cases') / F.col('population')*100),2).alias('per_of_total_cases')).show(15)"
      ],
      "metadata": {
        "colab": {
          "base_uri": "https://localhost:8080/"
        },
        "outputId": "51312c50-8180-48fb-87d7-bc9fa5a0bfa6",
        "id": "hx4c653yYGss"
      },
      "execution_count": 11,
      "outputs": [
        {
          "output_type": "stream",
          "name": "stdout",
          "text": [
            "+--------+-------------+------------------+\n",
            "|iso_code|     location|per_of_total_cases|\n",
            "+--------+-------------+------------------+\n",
            "|     AND|      Andorra|             15.54|\n",
            "|     MNE|   Montenegro|             14.52|\n",
            "|     CZE|      Czechia|             14.31|\n",
            "|     SMR|   San Marino|             13.94|\n",
            "|     SVN|     Slovenia|             10.37|\n",
            "|     LUX|   Luxembourg|              9.85|\n",
            "|     ISR|       Israel|              9.63|\n",
            "|     USA|United States|               9.2|\n",
            "|     SRB|       Serbia|              8.83|\n",
            "|     BHR|      Bahrain|              8.49|\n",
            "|     PAN|       Panama|              8.23|\n",
            "|     PRT|     Portugal|              8.06|\n",
            "|     EST|      Estonia|              8.02|\n",
            "|     SWE|       Sweden|              7.97|\n",
            "|     LTU|    Lithuania|              7.94|\n",
            "+--------+-------------+------------------+\n",
            "only showing top 15 rows\n",
            "\n"
          ]
        }
      ]
    },
    {
      "cell_type": "markdown",
      "source": [
        "## Top 10 стран с максимальным зафиксированным кол-вом новых случаев за последнюю неделю марта 2021 в отсортированном порядке по убыванию"
      ],
      "metadata": {
        "id": "nUryBqdFhNza"
      }
    },
    {
      "cell_type": "code",
      "source": [
        "df.where((df['date'] <= '2021-03-31') & (df['date'] >= '2021-03-22') & (df['continent'] != \"null\"))\\\n",
        "             .groupBy(['iso_code', 'location']).max('new_cases')\\\n",
        "             .orderBy('max(new_cases)', ascending=False).show(10)\n"
      ],
      "metadata": {
        "colab": {
          "base_uri": "https://localhost:8080/"
        },
        "outputId": "7b1bb539-85ac-4b9a-a579-013042bb624d",
        "id": "jw3ccBCyDJoX"
      },
      "execution_count": 13,
      "outputs": [
        {
          "output_type": "stream",
          "name": "stdout",
          "text": [
            "+--------+-------------+--------------+\n",
            "|iso_code|     location|max(new_cases)|\n",
            "+--------+-------------+--------------+\n",
            "|     BRA|       Brazil|      100158.0|\n",
            "|     USA|United States|       86960.0|\n",
            "|     IND|        India|       72330.0|\n",
            "|     FRA|       France|       65392.0|\n",
            "|     TUR|       Turkey|       39302.0|\n",
            "|     POL|       Poland|       35145.0|\n",
            "|     DEU|      Germany|       25014.0|\n",
            "|     ITA|        Italy|       24501.0|\n",
            "|     PER|         Peru|       19206.0|\n",
            "|     UKR|      Ukraine|       18226.0|\n",
            "+--------+-------------+--------------+\n",
            "only showing top 10 rows\n",
            "\n"
          ]
        }
      ]
    },
    {
      "cell_type": "markdown",
      "source": [
        "## Посчитать изменение случаев относительно предыдущего дня в России за последнюю неделю марта 2021."
      ],
      "metadata": {
        "id": "7PYDatMLpLxi"
      }
    },
    {
      "cell_type": "code",
      "source": [
        "window = Window().partitionBy(\"iso_code\").orderBy('date')"
      ],
      "metadata": {
        "id": "TGMENnwl0l5O"
      },
      "execution_count": 14,
      "outputs": []
    },
    {
      "cell_type": "code",
      "source": [
        "df \\\n",
        "    .withColumn('before_cases', F.lag('new_cases').over(window)).\\\n",
        "    select('iso_code', 'location', 'date', 'before_cases', 'new_cases', (F.col('new_cases') - F.col('before_cases')).alias('delta')).\\\n",
        "    where((df['date'].between('2021-03-24', '2021-03-31')) & (df['iso_code'] == \"RUS\"))\\\n",
        "    .show()"
      ],
      "metadata": {
        "colab": {
          "base_uri": "https://localhost:8080/"
        },
        "outputId": "261123f1-208f-4c5c-8ef7-d04de5550e4f",
        "id": "VIZx26IzpcMo"
      },
      "execution_count": 15,
      "outputs": [
        {
          "output_type": "stream",
          "name": "stdout",
          "text": [
            "+--------+--------+----------+------------+---------+------+\n",
            "|iso_code|location|      date|before_cases|new_cases| delta|\n",
            "+--------+--------+----------+------------+---------+------+\n",
            "|     RUS|  Russia|2021-03-24|      8369.0|   8769.0| 400.0|\n",
            "|     RUS|  Russia|2021-03-25|      8769.0|   9128.0| 359.0|\n",
            "|     RUS|  Russia|2021-03-26|      9128.0|   9073.0| -55.0|\n",
            "|     RUS|  Russia|2021-03-27|      9073.0|   8783.0|-290.0|\n",
            "|     RUS|  Russia|2021-03-28|      8783.0|   8979.0| 196.0|\n",
            "|     RUS|  Russia|2021-03-29|      8979.0|   8589.0|-390.0|\n",
            "|     RUS|  Russia|2021-03-30|      8589.0|   8162.0|-427.0|\n",
            "|     RUS|  Russia|2021-03-31|      8162.0|   8156.0|  -6.0|\n",
            "+--------+--------+----------+------------+---------+------+\n",
            "\n"
          ]
        }
      ]
    }
  ]
}